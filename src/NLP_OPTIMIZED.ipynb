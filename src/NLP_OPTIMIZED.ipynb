{
  "nbformat": 4,
  "nbformat_minor": 0,
  "metadata": {
    "colab": {
      "provenance": []
    },
    "kernelspec": {
      "name": "python3",
      "display_name": "Python 3"
    },
    "language_info": {
      "name": "python"
    }
  },
  "cells": [
    {
      "cell_type": "code",
      "execution_count": 1,
      "metadata": {
        "colab": {
          "base_uri": "https://localhost:8080/"
        },
        "id": "85DMuBVTRouU",
        "outputId": "10186e72-0c56-4f58-fe97-aeb34dd8ded4"
      },
      "outputs": [
        {
          "output_type": "stream",
          "name": "stderr",
          "text": [
            "[nltk_data] Downloading package wordnet to /root/nltk_data...\n",
            "[nltk_data]   Package wordnet is already up-to-date!\n",
            "[nltk_data] Downloading package stopwords to /root/nltk_data...\n",
            "[nltk_data]   Package stopwords is already up-to-date!\n"
          ]
        },
        {
          "output_type": "stream",
          "name": "stdout",
          "text": [
            "Initial Model Accuracy: 0.9514767932489452\n",
            "Optimized Model Accuracy: 0.959915611814346\n"
          ]
        }
      ],
      "source": [
        "# Combined imports\n",
        "import pandas as pd\n",
        "import regex as re\n",
        "from nltk import download\n",
        "from nltk.corpus import stopwords\n",
        "from nltk.stem import WordNetLemmatizer\n",
        "from sklearn.feature_extraction.text import TfidfVectorizer\n",
        "from sklearn.model_selection import train_test_split, GridSearchCV\n",
        "from sklearn.svm import SVC\n",
        "from sklearn.metrics import accuracy_score\n",
        "from pickle import dump\n",
        "\n",
        "# Load and preprocess data\n",
        "total_data = pd.read_csv(\"https://raw.githubusercontent.com/4GeeksAcademy/NLP-project-tutorial/main/url_spam.csv\")\n",
        "total_data[\"is_spam\"] = total_data[\"is_spam\"].astype(int)\n",
        "total_data.drop_duplicates(inplace=True)\n",
        "total_data.reset_index(drop=True, inplace=True)\n",
        "\n",
        "# Preprocessing function\n",
        "def preprocess_text(text):\n",
        "    text = re.sub(r'[^a-z ]', \" \", text)  # Remove non-letter characters\n",
        "    text = re.sub(r'\\\\s+', \" \", text.lower())  # Remove extra spaces and lowercase\n",
        "    return text.split()\n",
        "\n",
        "# Apply preprocessing\n",
        "total_data[\"url\"] = total_data[\"url\"].apply(preprocess_text)\n",
        "\n",
        "# Lemmatization and stopwords deletion\n",
        "download(\"wordnet\")\n",
        "download(\"stopwords\")\n",
        "lemmatizer = WordNetLemmatizer()\n",
        "stop_words = set(stopwords.words(\"english\"))  # Use a set for faster lookup\n",
        "\n",
        "def lemmatize_text(words):\n",
        "    return [lemmatizer.lemmatize(word) for word in words if word not in stop_words and len(word) > 3 and word != \"http\"]\n",
        "\n",
        "total_data[\"url\"] = total_data[\"url\"].apply(lemmatize_text)\n",
        "\n",
        "# Feature extraction with TF-IDF\n",
        "tokens_list = [\" \".join(tokens) for tokens in total_data[\"url\"]]\n",
        "vectorizer = TfidfVectorizer(max_features=5000, max_df=0.8, min_df=5)\n",
        "X = vectorizer.fit_transform(tokens_list).toarray()\n",
        "y = total_data[\"is_spam\"]\n",
        "\n",
        "# Splitting data\n",
        "X_train, X_test, y_train, y_test = train_test_split(X, y, test_size=0.2, random_state=42)\n",
        "\n",
        "# Model training\n",
        "model = SVC(kernel=\"linear\", random_state=42)\n",
        "model.fit(X_train, y_train)\n",
        "\n",
        "# Model prediction and evaluation\n",
        "y_pred = model.predict(X_test)\n",
        "initial_accuracy = accuracy_score(y_test, y_pred)\n",
        "print(f\"Initial Model Accuracy: {initial_accuracy}\")\n",
        "\n",
        "# Hyperparameter Optimization\n",
        "hyperparams = {\n",
        "    \"C\": [0.001, 0.01, 0.1, 1, 10, 100, 1000],\n",
        "    \"kernel\": [\"linear\", \"poly\", \"rbf\", \"sigmoid\"],\n",
        "    \"degree\": [1, 2, 3, 4, 5],\n",
        "    \"gamma\": [\"scale\", \"auto\"],\n",
        "    \"random_state\": [42],\n",
        "}\n",
        "\n",
        "# Initialize hyperparameter search\n",
        "grid = GridSearchCV(model, hyperparams, scoring=\"accuracy\", cv=5)\n",
        "grid.fit(X_train, y_train)\n",
        "\n",
        "# Training the model with optimized hyperparameters\n",
        "opt_model = SVC(**grid.best_params_)\n",
        "opt_model.fit(X_train, y_train)\n",
        "\n",
        "# Predict and evaluate with the optimized model\n",
        "opt_y_pred = opt_model.predict(X_test)\n",
        "optimized_accuracy = accuracy_score(y_test, opt_y_pred)\n",
        "print(f\"Optimized Model Accuracy: {optimized_accuracy}\")\n",
        "\n",
        "# Model saving (Path needs to be verified)\n",
        "# dump(opt_model, open(\"/models/optimized_svm_classifier.sav\", \"wb\"))\n"
      ]
    }
  ]
}